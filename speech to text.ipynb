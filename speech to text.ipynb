{
 "cells": [
  {
   "cell_type": "code",
   "execution_count": 12,
   "id": "af311f0e",
   "metadata": {},
   "outputs": [],
   "source": [
    "import tkinter as tk\n",
    "from tkinter import simpledialog\n",
    "import sounddevice as sd\n",
    "import numpy as np\n",
    "import scipy.io.wavfile as wav\n",
    "import speech_recognition as sr\n",
    "import difflib\n",
    "from deepmultilingualpunctuation import PunctuationModel\n",
    "import editdistance\n",
    "from sklearn.metrics import precision_score, recall_score, f1_score\n"
   ]
  },
  {
   "cell_type": "code",
   "execution_count": 13,
   "id": "cb9e951e",
   "metadata": {},
   "outputs": [],
   "source": [
    "def get_input_text():\n",
    "    root = tk.Tk()\n",
    "    root.withdraw()  # Hide the main window\n",
    "    user_input = simpledialog.askstring(title=\"Input\", prompt=\"Please enter the text you will speak:\")\n",
    "    return user_input\n"
   ]
  },
  {
   "cell_type": "code",
   "execution_count": 14,
   "id": "312bbdc9",
   "metadata": {},
   "outputs": [],
   "source": [
    "def record_audio(duration=10, fs=44100):\n",
    "    print(\"Recording...\")\n",
    "    audio = sd.rec(int(duration * fs), samplerate=fs, channels=2, dtype='int16')\n",
    "    sd.wait()  # Wait until the recording is finished\n",
    "    print(\"Recording finished\")\n",
    "    return audio, fs\n"
   ]
  },
  {
   "cell_type": "code",
   "execution_count": 15,
   "id": "e9cf66b5",
   "metadata": {},
   "outputs": [],
   "source": [
    "def recognize_speech_from_audio(audio_file):\n",
    "    recognizer = sr.Recognizer()\n",
    "    with sr.AudioFile(audio_file) as source:\n",
    "        audio = recognizer.record(source)\n",
    "        try:\n",
    "            recognized_text = recognizer.recognize_google(audio)\n",
    "            print(\"Raw Recognized Text:\", recognized_text)\n",
    "            return recognized_text\n",
    "        except sr.UnknownValueError:\n",
    "            print(\"Google Speech Recognition could not understand audio\")\n",
    "            return \"\"\n",
    "        except sr.RequestError as e:\n",
    "            print(\"Could not request results; {0}\".format(e))\n",
    "            return \"\"\n"
   ]
  },
  {
   "cell_type": "code",
   "execution_count": 16,
   "id": "3c841d70",
   "metadata": {},
   "outputs": [],
   "source": [
    "def add_punctuation_and_capitalization(text):\n",
    "    model = PunctuationModel()\n",
    "    punctuated_text = model.restore_punctuation(text)\n",
    "    \n",
    "    #Capitalize the first letter of each sentence\n",
    "    punctuated_text = '. '.join(sentence.capitalize() for sentence in punctuated_text.split('. '))\n",
    "    \n",
    "    return punctuated_text"
   ]
  },
  {
   "cell_type": "code",
   "execution_count": 17,
   "id": "718e54bd",
   "metadata": {},
   "outputs": [],
   "source": [
    "def calculate_wer(reference, hypothesis):\n",
    "    ref_words = reference.split()\n",
    "    hyp_words = hypothesis.split()\n",
    "    \n",
    "    # Calculate the edit distance\n",
    "    edit_dist = editdistance.eval(ref_words, hyp_words)\n",
    "    \n",
    "    # Calculate the number of deletions, insertions, and substitutions\n",
    "    num_words = len(ref_words)\n",
    "    wer = (edit_dist / num_words) * 100 if num_words > 0 else 0\n",
    "    return wer\n",
    "\n",
    "def calculate_cer(reference, hypothesis):\n",
    "    ref_chars = list(reference)\n",
    "    hyp_chars = list(hypothesis)\n",
    "    \n",
    "    # Calculate the edit distance\n",
    "    edit_dist = editdistance.eval(ref_chars, hyp_chars)\n",
    "    \n",
    "    # Calculate the number of deletions, insertions, and substitutions\n",
    "    num_chars = len(ref_chars)\n",
    "    cer = (edit_dist / num_chars) * 100 if num_chars > 0 else 0\n",
    "    return cer\n",
    "\n",
    "\n",
    "def calculate_precision_recall_f1(reference, hypothesis):\n",
    "    ref_words = reference.split()\n",
    "    hyp_words = hypothesis.split()\n",
    "    \n",
    "    common = set(ref_words).intersection(set(hyp_words))\n",
    "    tp = len(common)\n",
    "    fp = len(hyp_words) - tp\n",
    "    fn = len(ref_words) - tp\n",
    "    \n",
    "    precision = precision_score(ref_words, hyp_words, average='micro')\n",
    "    recall = recall_score(ref_words, hyp_words, average='micro')\n",
    "    f1 = f1_score(ref_words, hyp_words, average='micro')\n",
    "    \n",
    "    return precision * 100, recall * 100, f1 * 100"
   ]
  },
  {
   "cell_type": "code",
   "execution_count": 18,
   "id": "6e0f68a9",
   "metadata": {},
   "outputs": [],
   "source": [
    "def compare_texts(input_text, recognized_text):\n",
    "    input_words = input_text.split()\n",
    "    recognized_words = recognized_text.split()\n",
    "    diff = difflib.Differ().compare(input_words, recognized_words)\n",
    "    return list(diff)\n",
    "\n"
   ]
  },
  {
   "cell_type": "code",
   "execution_count": 19,
   "id": "fd4d6efc",
   "metadata": {},
   "outputs": [],
   "source": [
    "def calculate_index_based_accuracy(input_text, recognized_text):\n",
    "    input_words = input_text.split()\n",
    "    recognized_words = recognized_text.split()\n",
    "    matches = 0\n",
    "    for i in range(min(len(input_words), len(recognized_words))):\n",
    "        if input_words[i].lower() == recognized_words[i].lower():\n",
    "            matches += 1\n",
    "    accuracy = (matches / len(input_words)) * 100 if input_words else 0\n",
    "    return accuracy"
   ]
  },
  {
   "cell_type": "code",
   "execution_count": 20,
   "id": "4432e851",
   "metadata": {},
   "outputs": [],
   "source": [
    "def calculate_accuracy(input_text, recognized_text):\n",
    "    input_words = input_text.lower().split()\n",
    "    recognized_words = recognized_text.lower().split()\n",
    "    matched_words = set(input_words).intersection(recognized_words)\n",
    "    accuracy = len(matched_words) / len(set(input_words)) if input_words else 0\n",
    "    return accuracy * 100"
   ]
  },
  {
   "cell_type": "code",
   "execution_count": 21,
   "id": "ffc1a3d9",
   "metadata": {},
   "outputs": [],
   "source": [
    "def word_by_word_comparison(input_text, recognized_text):\n",
    "    input_words = input_text.split()\n",
    "    recognized_words = recognized_text.split()\n",
    "    comparison = []\n",
    "    for i in range(max(len(input_words), len(recognized_words))):\n",
    "        if i < len(input_words) and i < len(recognized_words):\n",
    "            comparison.append((input_words[i], recognized_words[i], input_words[i] == recognized_words[i]))\n",
    "        elif i < len(input_words):\n",
    "            comparison.append((input_words[i], None, False))\n",
    "        else:\n",
    "            comparison.append((None, recognized_words[i], False))\n",
    "    return comparison"
   ]
  },
  {
   "cell_type": "code",
   "execution_count": 23,
   "id": "2a0f7edf",
   "metadata": {},
   "outputs": [
    {
     "name": "stdout",
     "output_type": "stream",
     "text": [
      "Input Text: Hello, how are you?\n",
      "Recording...\n",
      "Recording finished\n",
      "Raw Recognized Text: hello how are you\n"
     ]
    },
    {
     "name": "stderr",
     "output_type": "stream",
     "text": [
      "C:\\Users\\LENOVO\\anaconda3\\Lib\\site-packages\\transformers\\pipelines\\token_classification.py:169: UserWarning: `grouped_entities` is deprecated and will be removed in version v5.0.0, defaulted to `aggregation_strategy=\"AggregationStrategy.NONE\"` instead.\n",
      "  warnings.warn(\n"
     ]
    },
    {
     "name": "stdout",
     "output_type": "stream",
     "text": [
      "-----------------------------------------------------------------------\n",
      "FINAL SPEECH TO TEXT:  Hello, how are you?\n",
      "-----------------------------------------------------------------------\n",
      "Overall Accuracy: 100.00%\n",
      "Word Error Rate: 0.00%\n",
      "Character Error Rate: 0.00%\n",
      "Precision: 100.00%\n",
      "Recall: 100.00%\n",
      "F1 Score: 100.00%\n",
      "Index-based Word Accuracy: 100.00%\n",
      "-----------------------------------------------------------------------\n",
      "Comparison Result: ['  Hello,', '  how', '  are', '  you?']\n",
      "Original: Hello,, Recognized: Hello,, Match: True\n",
      "Original: how, Recognized: how, Match: True\n",
      "Original: are, Recognized: are, Match: True\n",
      "Original: you?, Recognized: you?, Match: True\n",
      "-----------------------------------------------------------------------\n"
     ]
    }
   ],
   "source": [
    "# Main flow\n",
    "input_text = get_input_text()\n",
    "print(\"Input Text:\", input_text)\n",
    "\n",
    "audio, fs = record_audio()\n",
    "wav.write(\"output.wav\", fs, audio)\n",
    "\n",
    "recognized_text = recognize_speech_from_audio(\"output.wav\")\n",
    "punctuated_text = add_punctuation_and_capitalization(recognized_text)\n",
    "\n",
    "print(\"-----------------------------------------------------------------------\")\n",
    "print(\"FINAL SPEECH TO TEXT: \", punctuated_text)\n",
    "\n",
    "print(\"-----------------------------------------------------------------------\")\n",
    "accuracy = calculate_accuracy(input_text, punctuated_text)\n",
    "print(f\"Overall Accuracy: {accuracy:.2f}%\")\n",
    "\n",
    "#absolute_accuracy = calculate_abosulte_accuracy(input_text, punctuated_text)\n",
    "#print(f\"Overall absolute Accuracy: {accuracy:.2f}%\")\n",
    "\n",
    "wer = calculate_wer(input_text, punctuated_text)\n",
    "print(f\"Word Error Rate: {wer:.2f}%\")\n",
    "\n",
    "cer = calculate_cer(input_text, punctuated_text)\n",
    "precision, recall, f1 = calculate_precision_recall_f1(input_text, punctuated_text)\n",
    "index_based_accuracy = calculate_index_based_accuracy(input_text, punctuated_text)\n",
    "\n",
    "\n",
    "print(f\"Character Error Rate: {cer:.2f}%\")\n",
    "print(f\"Precision: {precision:.2f}%\")\n",
    "print(f\"Recall: {recall:.2f}%\")\n",
    "print(f\"F1 Score: {f1:.2f}%\")\n",
    "print(f\"Index-based Word Accuracy: {index_based_accuracy:.2f}%\")\n",
    "print(\"-----------------------------------------------------------------------\")\n",
    "\n",
    "comparison_result = compare_texts(input_text, punctuated_text)\n",
    "print(\"Comparison Result:\", comparison_result)\n",
    "\n",
    "word_comparison = word_by_word_comparison(input_text, punctuated_text)\n",
    "for original, recognized, match in word_comparison:\n",
    "    print(f\"Original: {original}, Recognized: {recognized}, Match: {match}\")\n",
    "print(\"-----------------------------------------------------------------------\")    "
   ]
  },
  {
   "cell_type": "code",
   "execution_count": null,
   "id": "81e89a78",
   "metadata": {},
   "outputs": [],
   "source": []
  },
  {
   "cell_type": "code",
   "execution_count": 33,
   "id": "f76ed1e9",
   "metadata": {},
   "outputs": [],
   "source": [
    "def calculate_abosulte_accuracy(input_text, recognized_text):\n",
    "    input_words = input_text.split()\n",
    "    recognized_words = recognized_text.split()\n",
    "    matched_words = sum(1 for i, j in zip(input_words, recognized_words) if i == j)\n",
    "    total_words = len(input_words)\n",
    "    accuracy = matched_words / total_words if total_words > 0 else 0\n",
    "    return accuracy * 100"
   ]
  }
 ],
 "metadata": {
  "kernelspec": {
   "display_name": "Python 3 (ipykernel)",
   "language": "python",
   "name": "python3"
  },
  "language_info": {
   "codemirror_mode": {
    "name": "ipython",
    "version": 3
   },
   "file_extension": ".py",
   "mimetype": "text/x-python",
   "name": "python",
   "nbconvert_exporter": "python",
   "pygments_lexer": "ipython3",
   "version": "3.11.5"
  }
 },
 "nbformat": 4,
 "nbformat_minor": 5
}
